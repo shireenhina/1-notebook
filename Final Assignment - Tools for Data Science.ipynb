{
  "metadata": {
    "language_info": {
      "codemirror_mode": {
        "name": "python",
        "version": 3
      },
      "file_extension": ".py",
      "mimetype": "text/x-python",
      "name": "python",
      "nbconvert_exporter": "python",
      "pygments_lexer": "ipython3",
      "version": "3.8"
    },
    "kernelspec": {
      "name": "python",
      "display_name": "Python (Pyodide)",
      "language": "python"
    }
  },
  "nbformat_minor": 4,
  "nbformat": 4,
  "cells": [
    {
      "cell_type": "markdown",
      "source": "# Title\n\nData Science Tools and Ecosystem\n",
      "metadata": {}
    },
    {
      "cell_type": "markdown",
      "source": "## Introduction \n\nIn this notebook, Data Science tools and Ecosystem are summarized.",
      "metadata": {}
    },
    {
      "cell_type": "markdown",
      "source": "# Data Science Languages\nR,\nJulia,\nPython, \nC++,\nScala,\nJava Script\n",
      "metadata": {}
    },
    {
      "cell_type": "markdown",
      "source": "# Data Science Libraries\nMatplotlib,\nNumpy,\nScipy,\nTensorFlow,\nKeras,\nPanda,\nGensim,\nPlotly,\nPyTorch,\nSeaborn",
      "metadata": {}
    },
    {
      "cell_type": "markdown",
      "source": "# Table\n| Data Science Tools|\n|------------------|\n| Python|\n| R|\n| Tableau|\n| Power BI|\n| Excel|\n| TensorFlow|",
      "metadata": {}
    },
    {
      "cell_type": "markdown",
      "source": "### Arithmetic Expression Examples",
      "metadata": {}
    },
    {
      "cell_type": "code",
      "source": "(3*4)+5",
      "metadata": {
        "trusted": true
      },
      "execution_count": 1,
      "outputs": [
        {
          "execution_count": 1,
          "output_type": "execute_result",
          "data": {
            "text/plain": "17"
          },
          "metadata": {}
        }
      ]
    },
    {
      "cell_type": "code",
      "source": "# Convert minutes to hours\n200/60",
      "metadata": {
        "trusted": true
      },
      "execution_count": 2,
      "outputs": [
        {
          "execution_count": 2,
          "output_type": "execute_result",
          "data": {
            "text/plain": "3.3333333333333335"
          },
          "metadata": {}
        }
      ]
    },
    {
      "cell_type": "markdown",
      "source": "Objectives:\n* Data Science Tools\n* Data Science Libraries\n* Arthmetic Expression Examples",
      "metadata": {}
    },
    {
      "cell_type": "markdown",
      "source": "## Author\nShireen ",
      "metadata": {}
    },
    {
      "cell_type": "code",
      "source": "",
      "metadata": {},
      "execution_count": null,
      "outputs": []
    }
  ]
}